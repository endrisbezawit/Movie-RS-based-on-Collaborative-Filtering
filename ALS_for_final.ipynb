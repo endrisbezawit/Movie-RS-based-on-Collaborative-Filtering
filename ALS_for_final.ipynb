{
  "nbformat": 4,
  "nbformat_minor": 0,
  "metadata": {
    "colab": {
      "name": "ALS for final.ipynb",
      "provenance": [],
      "collapsed_sections": [],
      "include_colab_link": true
    },
    "kernelspec": {
      "name": "python3",
      "display_name": "Python 3"
    },
    "language_info": {
      "name": "python"
    }
  },
  "cells": [
    {
      "cell_type": "markdown",
      "metadata": {
        "id": "view-in-github",
        "colab_type": "text"
      },
      "source": [
        "<a href=\"https://colab.research.google.com/github/endrisbezawit/Movie-RS-based-on-Collaborative-Filtering/blob/main/ALS_for_final.ipynb\" target=\"_parent\"><img src=\"https://colab.research.google.com/assets/colab-badge.svg\" alt=\"Open In Colab\"/></a>"
      ]
    },
    {
      "cell_type": "code",
      "execution_count": null,
      "metadata": {
        "colab": {
          "base_uri": "https://localhost:8080/"
        },
        "id": "Vvurssem5V3A",
        "outputId": "df0c6a63-3a3a-4d5e-bc12-1ca3deae6a9e"
      },
      "outputs": [
        {
          "output_type": "stream",
          "name": "stdout",
          "text": [
            "Collecting pyspark\n",
            "  Downloading pyspark-3.2.1.tar.gz (281.4 MB)\n",
            "\u001b[K     |████████████████████████████████| 281.4 MB 36 kB/s \n",
            "\u001b[?25hCollecting py4j==0.10.9.3\n",
            "  Downloading py4j-0.10.9.3-py2.py3-none-any.whl (198 kB)\n",
            "\u001b[K     |████████████████████████████████| 198 kB 40.5 MB/s \n",
            "\u001b[?25hBuilding wheels for collected packages: pyspark\n",
            "  Building wheel for pyspark (setup.py) ... \u001b[?25l\u001b[?25hdone\n",
            "  Created wheel for pyspark: filename=pyspark-3.2.1-py2.py3-none-any.whl size=281853642 sha256=ae075dc3ea952fc1d2bb2df45859f4ca8345aef248100b082a0b40b2a088664b\n",
            "  Stored in directory: /root/.cache/pip/wheels/9f/f5/07/7cd8017084dce4e93e84e92efd1e1d5334db05f2e83bcef74f\n",
            "Successfully built pyspark\n",
            "Installing collected packages: py4j, pyspark\n",
            "Successfully installed py4j-0.10.9.3 pyspark-3.2.1\n"
          ]
        }
      ],
      "source": [
        "!pip install pyspark"
      ]
    },
    {
      "cell_type": "markdown",
      "source": [
        "# New Section"
      ],
      "metadata": {
        "id": "rcQC3bM96-dt"
      }
    },
    {
      "cell_type": "code",
      "source": [
        "import pandas as pd\n",
        "from pyspark.sql.functions import col, explode\n",
        "from pyspark import SparkContext"
      ],
      "metadata": {
        "id": "UspJM2h66gEB"
      },
      "execution_count": null,
      "outputs": []
    },
    {
      "cell_type": "code",
      "source": [
        "from pyspark.sql import SparkSession\n",
        "sc = SparkContext\n",
        "spark = SparkSession.builder.appName('Recommendations').getOrCreate()\n"
      ],
      "metadata": {
        "id": "zsIGqpku5yok"
      },
      "execution_count": null,
      "outputs": []
    },
    {
      "cell_type": "code",
      "source": [
        "# Mounting drive to google colab\n",
        "from google.colab import drive\n",
        "drive.mount('/content/drive')"
      ],
      "metadata": {
        "colab": {
          "base_uri": "https://localhost:8080/"
        },
        "id": "7COaxKx47Af_",
        "outputId": "67b22cf5-d017-4429-8ac9-2c71ff880ca3"
      },
      "execution_count": null,
      "outputs": [
        {
          "output_type": "stream",
          "name": "stdout",
          "text": [
            "Mounted at /content/drive\n"
          ]
        }
      ]
    },
    {
      "cell_type": "code",
      "source": [
        "# path config\n",
        "# /content/drive/MyDrive/ml-latest\n",
        "data_path = '/content/drive/MyDrive/'"
      ],
      "metadata": {
        "id": "69NU1MlV6Toa"
      },
      "execution_count": null,
      "outputs": []
    },
    {
      "cell_type": "code",
      "source": [
        "movies = spark.read.csv('movies.csv', header=True)\n",
        "ratings = spark.read.csv('ratings.csv',  header=True)"
      ],
      "metadata": {
        "id": "ns1fJxsd6yBx"
      },
      "execution_count": null,
      "outputs": []
    },
    {
      "cell_type": "code",
      "source": [
        "from google.colab import drive\n",
        "drive.mount('/content/drive')"
      ],
      "metadata": {
        "id": "5-L_9JqJD6X7"
      },
      "execution_count": null,
      "outputs": []
    },
    {
      "cell_type": "code",
      "source": [
        "ratings = ratings.drop('Timestamp')\n",
        "ratings = ratings.withColumn('UserID', col('UserID').cast('integer'))\n",
        "ratings = ratings.withColumn('MovieID', col('MovieID').cast('integer'))\n",
        "ratings = ratings.withColumn('Rating', col('rating').cast('float'))\n",
        "ratings.limit(10).show()"
      ],
      "metadata": {
        "colab": {
          "base_uri": "https://localhost:8080/"
        },
        "id": "R7hF-Sd67_D8",
        "outputId": "2421870d-3480-42f7-992d-441dd89a0bbc"
      },
      "execution_count": null,
      "outputs": [
        {
          "output_type": "stream",
          "name": "stdout",
          "text": [
            "+------+-------+------+\n",
            "|UserID|MovieID|Rating|\n",
            "+------+-------+------+\n",
            "|     1|      1|   4.0|\n",
            "|     1|      3|   4.0|\n",
            "|     1|      6|   4.0|\n",
            "|     1|     47|   5.0|\n",
            "|     1|     50|   5.0|\n",
            "|     1|     70|   3.0|\n",
            "|     1|    101|   5.0|\n",
            "|     1|    110|   4.0|\n",
            "|     1|    151|   5.0|\n",
            "|     1|    157|   5.0|\n",
            "+------+-------+------+\n",
            "\n"
          ]
        }
      ]
    },
    {
      "cell_type": "code",
      "source": [
        "numerator = ratings.select(\"Rating\").count()\n",
        "\n",
        "# Count the number of distinct userIds and distinct movieIds\n",
        "unique_users = ratings.select(\"UserID\").distinct().count()\n",
        "unique_movies = ratings.select(\"MovieID\").distinct().count()\n",
        "\n",
        "# Set the denominator equal to the number of users multiplied by the number of movies\n",
        "denominator = unique_users * unique_movies\n",
        "\n",
        "# Divide the numerator by the denominator\n",
        "sparsity = (1.0 - (numerator *1.0)/denominator)*100\n",
        "print(\"The ratings data is \", \"%.2f\" % sparsity + \"% empty.\")"
      ],
      "metadata": {
        "colab": {
          "base_uri": "https://localhost:8080/"
        },
        "id": "TULigrGa8EPD",
        "outputId": "06e8b898-05a8-4e4d-b26c-d9cc25604b62"
      },
      "execution_count": null,
      "outputs": [
        {
          "output_type": "stream",
          "name": "stdout",
          "text": [
            "The ratings data is  98.30% empty.\n"
          ]
        }
      ]
    },
    {
      "cell_type": "code",
      "source": [
        "# Group data by userId, count ratings\n",
        "UserID_pivot = ratings.groupBy(\"UserID\").count().orderBy('count', ascending=False)\n",
        "UserID_pivot.limit(10).show()\n",
        "# Group data by userId, count ratings\n",
        "MovieID_pivot = ratings.groupBy(\"MovieID\").count().orderBy('count', ascending=False)\n",
        "MovieID_pivot.limit(10).show()"
      ],
      "metadata": {
        "colab": {
          "base_uri": "https://localhost:8080/"
        },
        "id": "PZyX2f078Oeb",
        "outputId": "a86ef71f-f674-4ac9-9d24-64fb041f6827"
      },
      "execution_count": null,
      "outputs": [
        {
          "output_type": "stream",
          "name": "stdout",
          "text": [
            "+------+-----+\n",
            "|UserID|count|\n",
            "+------+-----+\n",
            "|   414| 2698|\n",
            "|   599| 2478|\n",
            "|   474| 2108|\n",
            "|   448| 1864|\n",
            "|   274| 1346|\n",
            "|   610| 1302|\n",
            "|    68| 1260|\n",
            "|   380| 1218|\n",
            "|   606| 1115|\n",
            "|   288| 1055|\n",
            "+------+-----+\n",
            "\n",
            "+-------+-----+\n",
            "|MovieID|count|\n",
            "+-------+-----+\n",
            "|    356|  329|\n",
            "|    318|  317|\n",
            "|    296|  307|\n",
            "|    593|  279|\n",
            "|   2571|  278|\n",
            "|    260|  251|\n",
            "|    480|  238|\n",
            "|    110|  237|\n",
            "|    589|  224|\n",
            "|    527|  220|\n",
            "+-------+-----+\n",
            "\n"
          ]
        }
      ]
    },
    {
      "cell_type": "markdown",
      "source": [
        "Implementing ALS(Alternating Least Square) algorithm in Spark"
      ],
      "metadata": {
        "id": "7Dd8f3HW8Vlx"
      }
    },
    {
      "cell_type": "code",
      "source": [
        "# Import the required functions\n",
        "\n",
        "from pyspark.ml.evaluation import RegressionEvaluator\n",
        "from pyspark.ml.recommendation import ALS\n",
        "from pyspark.ml.tuning import ParamGridBuilder, CrossValidator"
      ],
      "metadata": {
        "id": "XxefTwds8eS6"
      },
      "execution_count": null,
      "outputs": []
    },
    {
      "cell_type": "code",
      "source": [
        "# Create test and train set\n",
        "(train, test) = ratings.randomSplit([0.8, 0.2], seed = 1234)\n",
        "\n",
        "# Create ALS model\n",
        "als = ALS(userCol=\"UserID\", \n",
        "          itemCol=\"MovieID\",\n",
        "          ratingCol=\"Rating\",\n",
        "          nonnegative = True,\n",
        "          implicitPrefs = False,\n",
        "          coldStartStrategy=\"drop\")"
      ],
      "metadata": {
        "id": "i1vZZ6ze8nYI"
      },
      "execution_count": null,
      "outputs": []
    },
    {
      "cell_type": "code",
      "source": [
        "# Add hyperparameters and their respective values to param_grid\n",
        "param_grid = ParamGridBuilder() \\\n",
        "            .addGrid(als.rank, [10, 50, 100, 150]) \\\n",
        "            .addGrid(als.regParam, [.01, .05, .1, .15]) \\\n",
        "            .build()\n",
        "            #             .addGrid(als.maxIter, [5, 50, 100, 200]) \\\n",
        "\n",
        "           \n",
        "# Define evaluator as RMSE and print length of evaluator\n",
        "evaluator = RegressionEvaluator(metricName=\"rmse\", labelCol=\"Rating\", predictionCol=\"prediction\") \n",
        "print (\"Num models to be tested: \", len(param_grid))"
      ],
      "metadata": {
        "colab": {
          "base_uri": "https://localhost:8080/"
        },
        "id": "ehZ1lzDz9t5W",
        "outputId": "710351dd-0c4e-48fe-d0b6-9cdf4a99b381"
      },
      "execution_count": null,
      "outputs": [
        {
          "output_type": "stream",
          "name": "stdout",
          "text": [
            "Num models to be tested:  16\n"
          ]
        }
      ]
    },
    {
      "cell_type": "code",
      "source": [
        "# Build cross validation using CrossValidator\n",
        "# numFolds=3 means the CrossValidator will create 3 different models.\n",
        "cv = CrossValidator(estimator=als, estimatorParamMaps=param_grid, evaluator=evaluator, numFolds=2)"
      ],
      "metadata": {
        "id": "IxnmRAVq_F8f"
      },
      "execution_count": null,
      "outputs": []
    },
    {
      "cell_type": "code",
      "source": [
        "# We fit the cross validator to the 'train' dataset\n",
        "#model = cv.fit(train)\n",
        "best_model=als.fit(train)\n",
        "\n",
        "# We Extract best model from the cv model above\n",
        "#best_model = model.bestModel"
      ],
      "metadata": {
        "id": "V0bGJ9Vh_X0t"
      },
      "execution_count": null,
      "outputs": []
    },
    {
      "cell_type": "code",
      "source": [
        "# Print best_model\n",
        "print(type(best_model))\n",
        "\n",
        "# Complete the code below to extract the ALS model parameters\n",
        "print(\"**Best Model**\")\n",
        "\n",
        "# # Print \"Rank\"\n",
        "print(\"  Rank:\", best_model._java_obj.parent().getRank())\n",
        "\n",
        "# Print \"MaxIter\"\n",
        "print(\"  MaxIter:\", best_model._java_obj.parent().getMaxIter())\n",
        "\n",
        "# Print \"RegParam\"\n",
        "print(\"  RegParam:\", best_model._java_obj.parent().getRegParam())"
      ],
      "metadata": {
        "colab": {
          "base_uri": "https://localhost:8080/"
        },
        "id": "FhSXswROK-gp",
        "outputId": "a8737b1c-a90d-4018-eca8-12ee964e0a84"
      },
      "execution_count": null,
      "outputs": [
        {
          "output_type": "stream",
          "name": "stdout",
          "text": [
            "<class 'pyspark.ml.recommendation.ALSModel'>\n",
            "**Best Model**\n",
            "  Rank: 10\n",
            "  MaxIter: 10\n",
            "  RegParam: 0.1\n"
          ]
        }
      ]
    },
    {
      "cell_type": "code",
      "source": [
        "# View the predictions\n",
        "test_predictions = best_model.transform(test)\n",
        "RMSE = evaluator.evaluate(test_predictions)\n",
        "print(RMSE)"
      ],
      "metadata": {
        "colab": {
          "base_uri": "https://localhost:8080/"
        },
        "id": "t86zM1SILP8e",
        "outputId": "0fa5e9b4-f1f8-4918-8de5-36ab3f3eca37"
      },
      "execution_count": null,
      "outputs": [
        {
          "output_type": "stream",
          "name": "stdout",
          "text": [
            "0.8792346230792731\n"
          ]
        }
      ]
    },
    {
      "cell_type": "code",
      "source": [
        "test_predictions.show()"
      ],
      "metadata": {
        "colab": {
          "base_uri": "https://localhost:8080/"
        },
        "id": "bnI6URH8LjXa",
        "outputId": "97447dfc-e2f6-4e8a-fdd8-cfa104ade281"
      },
      "execution_count": null,
      "outputs": [
        {
          "output_type": "stream",
          "name": "stdout",
          "text": [
            "+------+-------+------+----------+\n",
            "|UserID|MovieID|Rating|prediction|\n",
            "+------+-------+------+----------+\n",
            "|   580|   1580|   4.0| 3.4834278|\n",
            "|   580|  44022|   3.5|  3.737207|\n",
            "|   597|    471|   2.0| 4.2806745|\n",
            "|   108|   1959|   5.0| 4.2783747|\n",
            "|   368|   2122|   2.0|  1.794088|\n",
            "|   436|    471|   3.0|  3.857335|\n",
            "|   587|   1580|   4.0|  3.865708|\n",
            "|    27|   1580|   3.0| 3.4556212|\n",
            "|   606|   1580|   2.5|  3.074989|\n",
            "|   606|  44022|   4.0| 2.5122876|\n",
            "|    91|   2122|   4.0|  2.505557|\n",
            "|   157|   3175|   2.0| 3.5739088|\n",
            "|   232|   1580|   3.5| 3.5226269|\n",
            "|   232|  44022|   3.0|    3.3277|\n",
            "|   246|   1645|   4.0| 4.0916376|\n",
            "|   599|   2366|   3.0| 2.8905628|\n",
            "|   111|   1088|   3.0| 3.3892274|\n",
            "|   111|   3175|   3.5| 2.7912552|\n",
            "|    47|   1580|   1.5| 2.6379178|\n",
            "|   140|   1580|   3.0| 3.3501647|\n",
            "+------+-------+------+----------+\n",
            "only showing top 20 rows\n",
            "\n"
          ]
        }
      ]
    },
    {
      "cell_type": "code",
      "source": [
        "import pyspark.sql.functions as F\n",
        "from pyspark.sql.types import *\n",
        "\n",
        "def somefunc1(value1):\n",
        "  if   value1<3: \n",
        "      return 0\n",
        "  else:\n",
        "      return 1\n",
        "\n",
        "\n",
        "def somefunc2(value1,value2):\n",
        "  if   value1 == value2: \n",
        "      return 1\n",
        "  else:\n",
        "      return 0      \n",
        "#convert to a UDF Function by passing in the function and return type of function\n",
        "\n",
        "udfsomefunc1 = F.udf(somefunc1, IntegerType())\n",
        "udfsomefunc2 = F.udf(somefunc2, IntegerType())\n",
        "ratings_1 = test_predictions.withColumn(\"Rating_binary\", udfsomefunc1(\"Rating\"))\n",
        "ratings_2 = ratings_1.withColumn(\"predictions_binary\", udfsomefunc1(\"prediction\"))\n",
        "ratings_with_high_low = ratings_2.withColumn(\"Truth\", udfsomefunc2(\"Rating_binary\",\"predictions_binary\"))\n",
        "ratings_with_high_low.show()\n",
        "# ratings_1.show()\n"
      ],
      "metadata": {
        "colab": {
          "base_uri": "https://localhost:8080/"
        },
        "id": "4_aDSAPzMTpw",
        "outputId": "2f4c09ed-8fae-4efc-a85d-cdf0cbeaf3e3"
      },
      "execution_count": null,
      "outputs": [
        {
          "output_type": "stream",
          "name": "stdout",
          "text": [
            "+------+-------+------+----------+-------------+------------------+-----+\n",
            "|UserID|MovieID|Rating|prediction|Rating_binary|predictions_binary|Truth|\n",
            "+------+-------+------+----------+-------------+------------------+-----+\n",
            "|   148|    356|   4.0|  3.462273|            1|                 1|    1|\n",
            "|   148|   4896|   4.0| 3.6566792|            1|                 1|    1|\n",
            "|   148|   4993|   3.0| 3.4139667|            1|                 1|    1|\n",
            "|   148|   7153|   3.0| 3.3469503|            1|                 1|    1|\n",
            "|   148|   8368|   4.0| 3.6763072|            1|                 1|    1|\n",
            "|   148|  40629|   5.0| 2.9380376|            1|                 0|    0|\n",
            "|   148|  50872|   3.0| 3.7552364|            1|                 1|    1|\n",
            "|   148|  60069|   4.5| 3.8022726|            1|                 1|    1|\n",
            "|   148|  69757|   3.5|  3.026741|            1|                 1|    1|\n",
            "|   148|  72998|   4.0|  3.359804|            1|                 1|    1|\n",
            "|   148|  81847|   4.5|  3.303099|            1|                 1|    1|\n",
            "|   148|  98491|   5.0| 4.0046954|            1|                 1|    1|\n",
            "|   148| 115617|   3.5| 3.9568226|            1|                 1|    1|\n",
            "|   148| 122886|   3.5| 3.1793242|            1|                 1|    1|\n",
            "|   463|    296|   4.0|  4.188716|            1|                 1|    1|\n",
            "|   463|    527|   4.0| 3.4904134|            1|                 1|    1|\n",
            "|   463|   2019|   4.0| 3.8292186|            1|                 1|    1|\n",
            "|   471|    527|   4.5| 3.6363924|            1|                 1|    1|\n",
            "|   471|   6016|   4.0|  3.935043|            1|                 1|    1|\n",
            "|   471|   6333|   2.5| 3.1272562|            0|                 1|    0|\n",
            "+------+-------+------+----------+-------------+------------------+-----+\n",
            "only showing top 20 rows\n",
            "\n"
          ]
        }
      ]
    },
    {
      "cell_type": "code",
      "source": [
        "Perf_values = ratings_with_high_low.groupBy(\"Truth\").count().orderBy('count', ascending=False)\n",
        "Perf_values.limit(6).show()"
      ],
      "metadata": {
        "colab": {
          "base_uri": "https://localhost:8080/"
        },
        "id": "NxKSs-l1MiFS",
        "outputId": "09711700-3304-463a-93be-65c191d1b6e4"
      },
      "execution_count": null,
      "outputs": [
        {
          "output_type": "stream",
          "name": "stdout",
          "text": [
            "+-----+-----+\n",
            "|Truth|count|\n",
            "+-----+-----+\n",
            "|    1|14939|\n",
            "|    0| 4274|\n",
            "+-----+-----+\n",
            "\n"
          ]
        }
      ]
    },
    {
      "cell_type": "code",
      "source": [
        "a=list(Perf_values.select('Truth').toPandas()['Truth']) \n",
        "b=list(Perf_values.select('count').toPandas()['count'])\n",
        "\n",
        "print(a)\n",
        "print(b)"
      ],
      "metadata": {
        "colab": {
          "base_uri": "https://localhost:8080/"
        },
        "id": "9IODiA14MuCV",
        "outputId": "505ec3a6-c0bf-469d-f58a-864a8ce11af3"
      },
      "execution_count": null,
      "outputs": [
        {
          "output_type": "stream",
          "name": "stdout",
          "text": [
            "[1, 0]\n",
            "[14939, 4274]\n"
          ]
        }
      ]
    },
    {
      "cell_type": "code",
      "source": [
        "accuracy=b[0]/(b[0]+b[1])\n",
        "print(accuracy*100)"
      ],
      "metadata": {
        "colab": {
          "base_uri": "https://localhost:8080/"
        },
        "id": "eNC4NUe7M8ZU",
        "outputId": "1bfa35ac-6973-433a-ce9f-9d856539a958"
      },
      "execution_count": null,
      "outputs": [
        {
          "output_type": "stream",
          "name": "stdout",
          "text": [
            "77.75464529225003\n"
          ]
        }
      ]
    },
    {
      "cell_type": "code",
      "source": [
        "from sklearn.metrics import mean_squared_error\n",
        "from math import sqrt\n",
        "\n",
        "#rms = sqrt(mean_squared_error('Rating', 'prediction'))"
      ],
      "metadata": {
        "id": "gqZVOzB5plWq"
      },
      "execution_count": null,
      "outputs": []
    },
    {
      "cell_type": "markdown",
      "source": [
        "**Recommending Movies**\n",
        "\n",
        "The final part of our code comes i.e. predicting the best movies for the user based on personalized choice and recommending the movies to the user."
      ],
      "metadata": {
        "id": "qcaj0p12NIzL"
      }
    },
    {
      "cell_type": "code",
      "source": [
        "# Generate n Recommendations for all users\n",
        "recommendations = best_model.recommendForAllUsers(10)\n",
        "recommendations.limit(10).show()"
      ],
      "metadata": {
        "colab": {
          "base_uri": "https://localhost:8080/"
        },
        "id": "1ipfmaHmNJv6",
        "outputId": "4967b716-3864-485c-de14-1b83bd50e5ae"
      },
      "execution_count": null,
      "outputs": [
        {
          "output_type": "stream",
          "name": "stderr",
          "text": [
            "/usr/local/lib/python3.7/dist-packages/pyspark/sql/context.py:127: FutureWarning: Deprecated in 3.0.0. Use SparkSession.builder.getOrCreate() instead.\n",
            "  FutureWarning\n"
          ]
        },
        {
          "output_type": "stream",
          "name": "stdout",
          "text": [
            "+------+--------------------+\n",
            "|UserID|     recommendations|\n",
            "+------+--------------------+\n",
            "|     1|[{8477, 6.027934}...|\n",
            "|     3|[{70946, 5.251848...|\n",
            "|     5|[{58301, 4.971614...|\n",
            "|     6|[{3925, 5.471189}...|\n",
            "|     9|[{3379, 5.2894783...|\n",
            "|    12|[{3925, 6.1210833...|\n",
            "|    13|[{3379, 5.4368963...|\n",
            "|    15|[{27611, 5.272330...|\n",
            "|    16|[{3379, 4.665858}...|\n",
            "|    17|[{3379, 5.2830396...|\n",
            "+------+--------------------+\n",
            "\n"
          ]
        }
      ]
    },
    {
      "cell_type": "code",
      "source": [
        "recommendations = recommendations\\\n",
        "    .withColumn(\"rec_exp\", explode(\"recommendations\"))\\\n",
        "    .select('userId', col(\"rec_exp.movieId\"), col(\"rec_exp.rating\"))"
      ],
      "metadata": {
        "id": "pUBe0zfTNZ35"
      },
      "execution_count": null,
      "outputs": []
    },
    {
      "cell_type": "markdown",
      "source": [
        "ratings.join(movies, on='MovieID').filter('UserId = 50').sort('Rating', ascending=False).limit(10).show()"
      ],
      "metadata": {
        "id": "wkSCZQK-Ne6R"
      }
    },
    {
      "cell_type": "code",
      "source": [
        "recommendations.join(movies, on='MovieID').filter('UserID = 50').show()"
      ],
      "metadata": {
        "colab": {
          "base_uri": "https://localhost:8080/"
        },
        "id": "9wXmI_wgNkdo",
        "outputId": "e70c806e-820b-45a2-dec4-3fee9e54fd34"
      },
      "execution_count": null,
      "outputs": [
        {
          "output_type": "stream",
          "name": "stdout",
          "text": [
            "+-------+------+---------+--------------------+--------------------+\n",
            "|movieId|userId|   rating|               title|              genres|\n",
            "+-------+------+---------+--------------------+--------------------+\n",
            "|  96004|    50|4.0556064|Dragon Ball Z: Th...|Action|Adventure|...|\n",
            "|   7982|    50|3.9035714|Tale of Two Siste...|Drama|Horror|Myst...|\n",
            "|   3379|    50|3.8740618| On the Beach (1959)|               Drama|\n",
            "|   3030|    50|3.8706512|      Yojimbo (1961)|    Action|Adventure|\n",
            "|  27156|    50|3.8205142|Neon Genesis Evan...|Action|Animation|...|\n",
            "|   7767|    50| 3.812018|Best of Youth, Th...|               Drama|\n",
            "|    923|    50|3.8014812| Citizen Kane (1941)|       Drama|Mystery|\n",
            "|   7096|    50|3.7968893|Rivers and Tides ...|         Documentary|\n",
            "|  92475|    50|3.7956157|All Watched Over ...|         Documentary|\n",
            "|   6460|    50|3.7923243|Trial, The (Procè...|               Drama|\n",
            "+-------+------+---------+--------------------+--------------------+\n",
            "\n"
          ]
        }
      ]
    },
    {
      "cell_type": "code",
      "source": [
        "single_user=test.filter(test['UserID']==20).select(['MovieID','UserID','Rating'])\n",
        "\n",
        "single_user.show(5)"
      ],
      "metadata": {
        "colab": {
          "base_uri": "https://localhost:8080/"
        },
        "id": "woakAMQ-ODJo",
        "outputId": "dcb3be71-6e3c-4a8e-81cf-6c1f497e48d4"
      },
      "execution_count": null,
      "outputs": [
        {
          "output_type": "stream",
          "name": "stdout",
          "text": [
            "+-------+------+------+\n",
            "|MovieID|UserID|Rating|\n",
            "+-------+------+------+\n",
            "|     13|    20|   4.0|\n",
            "|    364|    20|   5.0|\n",
            "|    531|    20|   4.5|\n",
            "|    551|    20|   5.0|\n",
            "|    783|    20|   3.5|\n",
            "+-------+------+------+\n",
            "only showing top 5 rows\n",
            "\n"
          ]
        }
      ]
    },
    {
      "cell_type": "code",
      "source": [
        "reccomendations = best_model.transform(single_user)\n",
        "reccomendations.sort('prediction',ascen=True).show(10)"
      ],
      "metadata": {
        "colab": {
          "base_uri": "https://localhost:8080/"
        },
        "id": "mVAXchbQOTx9",
        "outputId": "13bd83c6-9caf-4855-9e3c-ee37a9bea98b"
      },
      "execution_count": null,
      "outputs": [
        {
          "output_type": "stream",
          "name": "stdout",
          "text": [
            "+-------+------+------+----------+\n",
            "|MovieID|UserID|Rating|prediction|\n",
            "+-------+------+------+----------+\n",
            "|   1489|    20|   4.0| 2.0797367|\n",
            "|   4369|    20|   2.0| 2.2084951|\n",
            "|   5313|    20|   0.5| 2.3399696|\n",
            "|   4367|    20|   0.5| 2.4314096|\n",
            "|   1021|    20|   2.0| 2.4782176|\n",
            "|   2116|    20|   2.5|  2.568874|\n",
            "|   2167|    20|   2.0| 2.6475766|\n",
            "|   5388|    20|   4.0|  2.786439|\n",
            "|   3438|    20|   4.0| 3.0330524|\n",
            "|   3755|    20|   4.5|  3.038228|\n",
            "+-------+------+------+----------+\n",
            "only showing top 10 rows\n",
            "\n"
          ]
        }
      ]
    },
    {
      "cell_type": "code",
      "source": [
        "evaluator = RegressionEvaluator(metricName=\"rmse\", labelCol=\"Rating\",predictionCol=\"prediction\")\n",
        "rmse = evaluator.evaluate(test_predictions)\n",
        "print(\"Root-mean-square error = \" + str(rmse))\n",
        "\n",
        "\n",
        "evaluator = RegressionEvaluator(metricName=\"r2\", labelCol=\"Rating\",predictionCol=\"prediction\")\n",
        "r2 = evaluator.evaluate(test_predictions)  \n",
        "print(\"r2= \" + str(r2))\n",
        "\n",
        "evaluator = RegressionEvaluator(metricName=\"mae\", labelCol=\"Rating\",predictionCol=\"prediction\")\n",
        "mae = evaluator.evaluate(test_predictions)\n",
        "print(\"mean absolute error = \" + str(mae))"
      ],
      "metadata": {
        "colab": {
          "base_uri": "https://localhost:8080/"
        },
        "id": "ZvUct3ZIQGNp",
        "outputId": "b967ff38-789d-4440-ebef-67ac46f890b0"
      },
      "execution_count": null,
      "outputs": [
        {
          "output_type": "stream",
          "name": "stdout",
          "text": [
            "Root-mean-square error = 0.8779523470349659\n",
            "r2= 0.2779400594715987\n",
            "mean absolute error = 0.6769390148733815\n"
          ]
        }
      ]
    },
    {
      "cell_type": "markdown",
      "source": [
        "Reference  \n",
        "\n",
        "https://colab.research.google.com/github/asifahmed90/pyspark-ML-in-Colab/blob/master/PySpark_Regression_Analysis.ipynb#scrollTo=lh5NCoc8fsSO\n",
        "\n",
        "\n",
        "https://spark.apache.org/docs/latest/api/python/reference/api/pyspark.ml.tuning.CrossValidator.html?highlight=crossvalidator \n",
        "\n"
      ],
      "metadata": {
        "id": "c7TgUvYdUbpj"
      }
    }
  ]
}